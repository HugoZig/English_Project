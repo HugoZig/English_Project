{
  "nbformat": 4,
  "nbformat_minor": 0,
  "metadata": {
    "colab": {
      "provenance": []
    },
    "kernelspec": {
      "name": "python3",
      "display_name": "Python 3"
    },
    "language_info": {
      "name": "python"
    },
    "widgets": {
      "application/vnd.jupyter.widget-state+json": {
        "939ac5cc3bd24468a39eac4f621c66bd": {
          "model_module": "@jupyter-widgets/controls",
          "model_name": "VBoxModel",
          "model_module_version": "1.5.0",
          "state": {
            "_dom_classes": [],
            "_model_module": "@jupyter-widgets/controls",
            "_model_module_version": "1.5.0",
            "_model_name": "VBoxModel",
            "_view_count": null,
            "_view_module": "@jupyter-widgets/controls",
            "_view_module_version": "1.5.0",
            "_view_name": "VBoxView",
            "box_style": "",
            "children": [
              "IPY_MODEL_2fa6f2f0b26b48c093be246b8c12cd47",
              "IPY_MODEL_cb445679932f493181dd0aaacf27f322",
              "IPY_MODEL_7f035e4374ea495aaa1dc36ce7c3e9d4",
              "IPY_MODEL_fe67c8eafd984868a442e89a3aecb75d",
              "IPY_MODEL_e9092b89e2594c308d93bbc251c65ea9"
            ],
            "layout": "IPY_MODEL_39c55fbd5a3943518408a49c3cdcdc97"
          }
        },
        "2fa6f2f0b26b48c093be246b8c12cd47": {
          "model_module": "@jupyter-widgets/controls",
          "model_name": "LabelModel",
          "model_module_version": "1.5.0",
          "state": {
            "_dom_classes": [],
            "_model_module": "@jupyter-widgets/controls",
            "_model_module_version": "1.5.0",
            "_model_name": "LabelModel",
            "_view_count": null,
            "_view_module": "@jupyter-widgets/controls",
            "_view_module_version": "1.5.0",
            "_view_name": "LabelView",
            "description": "",
            "description_tooltip": null,
            "layout": "IPY_MODEL_185a301493cc4112a84d12ee276b464f",
            "placeholder": "​",
            "style": "IPY_MODEL_447071bc62574c5b85a6bded9e7e0138",
            "value": "Select your Flag!"
          }
        },
        "cb445679932f493181dd0aaacf27f322": {
          "model_module": "@jupyter-widgets/controls",
          "model_name": "FileUploadModel",
          "model_module_version": "1.5.0",
          "state": {
            "_counter": 2,
            "_dom_classes": [],
            "_model_module": "@jupyter-widgets/controls",
            "_model_module_version": "1.5.0",
            "_model_name": "FileUploadModel",
            "_view_count": null,
            "_view_module": "@jupyter-widgets/controls",
            "_view_module_version": "1.5.0",
            "_view_name": "FileUploadView",
            "accept": "",
            "button_style": "",
            "data": [
              null
            ],
            "description": "Upload",
            "description_tooltip": null,
            "disabled": false,
            "error": "",
            "icon": "upload",
            "layout": "IPY_MODEL_257d2e709da34f788194c29d75ab65ba",
            "metadata": [
              {
                "name": "GermanFlag.jpeg",
                "type": "image/jpeg",
                "size": 41587,
                "lastModified": 1682219611414
              }
            ],
            "multiple": false,
            "style": "IPY_MODEL_bd790af3a5bc476997fa442ce92ab69d"
          }
        },
        "7f035e4374ea495aaa1dc36ce7c3e9d4": {
          "model_module": "@jupyter-widgets/controls",
          "model_name": "ButtonModel",
          "model_module_version": "1.5.0",
          "state": {
            "_dom_classes": [],
            "_model_module": "@jupyter-widgets/controls",
            "_model_module_version": "1.5.0",
            "_model_name": "ButtonModel",
            "_view_count": null,
            "_view_module": "@jupyter-widgets/controls",
            "_view_module_version": "1.5.0",
            "_view_name": "ButtonView",
            "button_style": "",
            "description": "Classify",
            "disabled": false,
            "icon": "",
            "layout": "IPY_MODEL_6731a53fc7a744f4b355dd7a73bb2b64",
            "style": "IPY_MODEL_26e20d17bdec4311b9d81ee99340ad3d",
            "tooltip": ""
          }
        },
        "fe67c8eafd984868a442e89a3aecb75d": {
          "model_module": "@jupyter-widgets/output",
          "model_name": "OutputModel",
          "model_module_version": "1.0.0",
          "state": {
            "_dom_classes": [],
            "_model_module": "@jupyter-widgets/output",
            "_model_module_version": "1.0.0",
            "_model_name": "OutputModel",
            "_view_count": null,
            "_view_module": "@jupyter-widgets/output",
            "_view_module_version": "1.0.0",
            "_view_name": "OutputView",
            "layout": "IPY_MODEL_d69b10753468445c8e255530cc56c388",
            "msg_id": "",
            "outputs": [
              {
                "output_type": "display_data",
                "data": {
                  "text/plain": "<PIL.Image.Image image mode=RGB size=128x72>",
                  "image/png": "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\n"
                },
                "metadata": {}
              }
            ]
          }
        },
        "e9092b89e2594c308d93bbc251c65ea9": {
          "model_module": "@jupyter-widgets/controls",
          "model_name": "LabelModel",
          "model_module_version": "1.5.0",
          "state": {
            "_dom_classes": [],
            "_model_module": "@jupyter-widgets/controls",
            "_model_module_version": "1.5.0",
            "_model_name": "LabelModel",
            "_view_count": null,
            "_view_module": "@jupyter-widgets/controls",
            "_view_module_version": "1.5.0",
            "_view_name": "LabelView",
            "description": "",
            "description_tooltip": null,
            "layout": "IPY_MODEL_8a7f1c78ec2846a3ab7fa5ffee1410e6",
            "placeholder": "​",
            "style": "IPY_MODEL_cdc743f9e51a4d4abae9dfcf584a9ac8",
            "value": "Prediction: Germany; Probability: 0.9326"
          }
        },
        "39c55fbd5a3943518408a49c3cdcdc97": {
          "model_module": "@jupyter-widgets/base",
          "model_name": "LayoutModel",
          "model_module_version": "1.2.0",
          "state": {
            "_model_module": "@jupyter-widgets/base",
            "_model_module_version": "1.2.0",
            "_model_name": "LayoutModel",
            "_view_count": null,
            "_view_module": "@jupyter-widgets/base",
            "_view_module_version": "1.2.0",
            "_view_name": "LayoutView",
            "align_content": null,
            "align_items": null,
            "align_self": null,
            "border": null,
            "bottom": null,
            "display": null,
            "flex": null,
            "flex_flow": null,
            "grid_area": null,
            "grid_auto_columns": null,
            "grid_auto_flow": null,
            "grid_auto_rows": null,
            "grid_column": null,
            "grid_gap": null,
            "grid_row": null,
            "grid_template_areas": null,
            "grid_template_columns": null,
            "grid_template_rows": null,
            "height": null,
            "justify_content": null,
            "justify_items": null,
            "left": null,
            "margin": null,
            "max_height": null,
            "max_width": null,
            "min_height": null,
            "min_width": null,
            "object_fit": null,
            "object_position": null,
            "order": null,
            "overflow": null,
            "overflow_x": null,
            "overflow_y": null,
            "padding": null,
            "right": null,
            "top": null,
            "visibility": null,
            "width": null
          }
        },
        "185a301493cc4112a84d12ee276b464f": {
          "model_module": "@jupyter-widgets/base",
          "model_name": "LayoutModel",
          "model_module_version": "1.2.0",
          "state": {
            "_model_module": "@jupyter-widgets/base",
            "_model_module_version": "1.2.0",
            "_model_name": "LayoutModel",
            "_view_count": null,
            "_view_module": "@jupyter-widgets/base",
            "_view_module_version": "1.2.0",
            "_view_name": "LayoutView",
            "align_content": null,
            "align_items": null,
            "align_self": null,
            "border": null,
            "bottom": null,
            "display": null,
            "flex": null,
            "flex_flow": null,
            "grid_area": null,
            "grid_auto_columns": null,
            "grid_auto_flow": null,
            "grid_auto_rows": null,
            "grid_column": null,
            "grid_gap": null,
            "grid_row": null,
            "grid_template_areas": null,
            "grid_template_columns": null,
            "grid_template_rows": null,
            "height": null,
            "justify_content": null,
            "justify_items": null,
            "left": null,
            "margin": null,
            "max_height": null,
            "max_width": null,
            "min_height": null,
            "min_width": null,
            "object_fit": null,
            "object_position": null,
            "order": null,
            "overflow": null,
            "overflow_x": null,
            "overflow_y": null,
            "padding": null,
            "right": null,
            "top": null,
            "visibility": null,
            "width": null
          }
        },
        "447071bc62574c5b85a6bded9e7e0138": {
          "model_module": "@jupyter-widgets/controls",
          "model_name": "DescriptionStyleModel",
          "model_module_version": "1.5.0",
          "state": {
            "_model_module": "@jupyter-widgets/controls",
            "_model_module_version": "1.5.0",
            "_model_name": "DescriptionStyleModel",
            "_view_count": null,
            "_view_module": "@jupyter-widgets/base",
            "_view_module_version": "1.2.0",
            "_view_name": "StyleView",
            "description_width": ""
          }
        },
        "257d2e709da34f788194c29d75ab65ba": {
          "model_module": "@jupyter-widgets/base",
          "model_name": "LayoutModel",
          "model_module_version": "1.2.0",
          "state": {
            "_model_module": "@jupyter-widgets/base",
            "_model_module_version": "1.2.0",
            "_model_name": "LayoutModel",
            "_view_count": null,
            "_view_module": "@jupyter-widgets/base",
            "_view_module_version": "1.2.0",
            "_view_name": "LayoutView",
            "align_content": null,
            "align_items": null,
            "align_self": null,
            "border": null,
            "bottom": null,
            "display": null,
            "flex": null,
            "flex_flow": null,
            "grid_area": null,
            "grid_auto_columns": null,
            "grid_auto_flow": null,
            "grid_auto_rows": null,
            "grid_column": null,
            "grid_gap": null,
            "grid_row": null,
            "grid_template_areas": null,
            "grid_template_columns": null,
            "grid_template_rows": null,
            "height": null,
            "justify_content": null,
            "justify_items": null,
            "left": null,
            "margin": null,
            "max_height": null,
            "max_width": null,
            "min_height": null,
            "min_width": null,
            "object_fit": null,
            "object_position": null,
            "order": null,
            "overflow": null,
            "overflow_x": null,
            "overflow_y": null,
            "padding": null,
            "right": null,
            "top": null,
            "visibility": null,
            "width": null
          }
        },
        "bd790af3a5bc476997fa442ce92ab69d": {
          "model_module": "@jupyter-widgets/controls",
          "model_name": "ButtonStyleModel",
          "model_module_version": "1.5.0",
          "state": {
            "_model_module": "@jupyter-widgets/controls",
            "_model_module_version": "1.5.0",
            "_model_name": "ButtonStyleModel",
            "_view_count": null,
            "_view_module": "@jupyter-widgets/base",
            "_view_module_version": "1.2.0",
            "_view_name": "StyleView",
            "button_color": null,
            "font_weight": ""
          }
        },
        "6731a53fc7a744f4b355dd7a73bb2b64": {
          "model_module": "@jupyter-widgets/base",
          "model_name": "LayoutModel",
          "model_module_version": "1.2.0",
          "state": {
            "_model_module": "@jupyter-widgets/base",
            "_model_module_version": "1.2.0",
            "_model_name": "LayoutModel",
            "_view_count": null,
            "_view_module": "@jupyter-widgets/base",
            "_view_module_version": "1.2.0",
            "_view_name": "LayoutView",
            "align_content": null,
            "align_items": null,
            "align_self": null,
            "border": null,
            "bottom": null,
            "display": null,
            "flex": null,
            "flex_flow": null,
            "grid_area": null,
            "grid_auto_columns": null,
            "grid_auto_flow": null,
            "grid_auto_rows": null,
            "grid_column": null,
            "grid_gap": null,
            "grid_row": null,
            "grid_template_areas": null,
            "grid_template_columns": null,
            "grid_template_rows": null,
            "height": null,
            "justify_content": null,
            "justify_items": null,
            "left": null,
            "margin": null,
            "max_height": null,
            "max_width": null,
            "min_height": null,
            "min_width": null,
            "object_fit": null,
            "object_position": null,
            "order": null,
            "overflow": null,
            "overflow_x": null,
            "overflow_y": null,
            "padding": null,
            "right": null,
            "top": null,
            "visibility": null,
            "width": null
          }
        },
        "26e20d17bdec4311b9d81ee99340ad3d": {
          "model_module": "@jupyter-widgets/controls",
          "model_name": "ButtonStyleModel",
          "model_module_version": "1.5.0",
          "state": {
            "_model_module": "@jupyter-widgets/controls",
            "_model_module_version": "1.5.0",
            "_model_name": "ButtonStyleModel",
            "_view_count": null,
            "_view_module": "@jupyter-widgets/base",
            "_view_module_version": "1.2.0",
            "_view_name": "StyleView",
            "button_color": null,
            "font_weight": ""
          }
        },
        "8a7f1c78ec2846a3ab7fa5ffee1410e6": {
          "model_module": "@jupyter-widgets/base",
          "model_name": "LayoutModel",
          "model_module_version": "1.2.0",
          "state": {
            "_model_module": "@jupyter-widgets/base",
            "_model_module_version": "1.2.0",
            "_model_name": "LayoutModel",
            "_view_count": null,
            "_view_module": "@jupyter-widgets/base",
            "_view_module_version": "1.2.0",
            "_view_name": "LayoutView",
            "align_content": null,
            "align_items": null,
            "align_self": null,
            "border": null,
            "bottom": null,
            "display": null,
            "flex": null,
            "flex_flow": null,
            "grid_area": null,
            "grid_auto_columns": null,
            "grid_auto_flow": null,
            "grid_auto_rows": null,
            "grid_column": null,
            "grid_gap": null,
            "grid_row": null,
            "grid_template_areas": null,
            "grid_template_columns": null,
            "grid_template_rows": null,
            "height": null,
            "justify_content": null,
            "justify_items": null,
            "left": null,
            "margin": null,
            "max_height": null,
            "max_width": null,
            "min_height": null,
            "min_width": null,
            "object_fit": null,
            "object_position": null,
            "order": null,
            "overflow": null,
            "overflow_x": null,
            "overflow_y": null,
            "padding": null,
            "right": null,
            "top": null,
            "visibility": null,
            "width": null
          }
        },
        "cdc743f9e51a4d4abae9dfcf584a9ac8": {
          "model_module": "@jupyter-widgets/controls",
          "model_name": "DescriptionStyleModel",
          "model_module_version": "1.5.0",
          "state": {
            "_model_module": "@jupyter-widgets/controls",
            "_model_module_version": "1.5.0",
            "_model_name": "DescriptionStyleModel",
            "_view_count": null,
            "_view_module": "@jupyter-widgets/base",
            "_view_module_version": "1.2.0",
            "_view_name": "StyleView",
            "description_width": ""
          }
        },
        "d69b10753468445c8e255530cc56c388": {
          "model_module": "@jupyter-widgets/base",
          "model_name": "LayoutModel",
          "model_module_version": "1.2.0",
          "state": {
            "_model_module": "@jupyter-widgets/base",
            "_model_module_version": "1.2.0",
            "_model_name": "LayoutModel",
            "_view_count": null,
            "_view_module": "@jupyter-widgets/base",
            "_view_module_version": "1.2.0",
            "_view_name": "LayoutView",
            "align_content": null,
            "align_items": null,
            "align_self": null,
            "border": null,
            "bottom": null,
            "display": null,
            "flex": null,
            "flex_flow": null,
            "grid_area": null,
            "grid_auto_columns": null,
            "grid_auto_flow": null,
            "grid_auto_rows": null,
            "grid_column": null,
            "grid_gap": null,
            "grid_row": null,
            "grid_template_areas": null,
            "grid_template_columns": null,
            "grid_template_rows": null,
            "height": null,
            "justify_content": null,
            "justify_items": null,
            "left": null,
            "margin": null,
            "max_height": null,
            "max_width": null,
            "min_height": null,
            "min_width": null,
            "object_fit": null,
            "object_position": null,
            "order": null,
            "overflow": null,
            "overflow_x": null,
            "overflow_y": null,
            "padding": null,
            "right": null,
            "top": null,
            "visibility": null,
            "width": null
          }
        }
      }
    }
  },
  "cells": [
    {
      "cell_type": "code",
      "source": [
        "# Import required modules\n",
        "from fastai.vision.all import *\n",
        "from fastai.vision.widgets import *"
      ],
      "metadata": {
        "id": "O8RZLthx3g1G"
      },
      "execution_count": null,
      "outputs": []
    },
    {
      "cell_type": "code",
      "source": [
        "#Here we put as Text what we want to appear at the webpage. I made this short text:"
      ],
      "metadata": {
        "id": "gLifJeIPd4RL"
      },
      "execution_count": null,
      "outputs": []
    },
    {
      "cell_type": "markdown",
      "source": [
        "#The Flag Classifier!!!"
      ],
      "metadata": {
        "id": "CQQSrmrK27fD"
      }
    },
    {
      "cell_type": "markdown",
      "source": [
        "Hello there!\n",
        "\n",
        "We have an exciting new Machine Learning model that we would like to share with you! Our model is designed to identify the flag of three countries - Germany, Bulgaria, and the Netherlands. All of these flags have horizontal stripes.\n",
        "\n",
        "The model we have built uses algorithms and data processing techniques to accurately identify the flags of these countries. This model is useful for anyone who needs to quickly and easily identify these flags. Whether you're a student studying geography, a researcher analyzing data, or even a color blind person, our model is here to help.\n",
        "\n",
        "Using our model is easy. Simply upload an image of a flag, and our system will quickly analyze the image and provide you with an accurate identification of the flag.\n",
        "\n",
        "We're excited to share this new technology with you, and we hope that you find it useful. So why not give it a try today and see for yourself just how powerful our machine learning model can be!"
      ],
      "metadata": {
        "id": "QWbJTDq13BSC"
      }
    },
    {
      "cell_type": "code",
      "source": [
        "#Importing the Trained MOdel and Declaring some widgets to be used\n",
        "path = Path()\n",
        "learn_inf = load_learner(path/'export.pkl', cpu=True)\n",
        "btn_upload = widgets.FileUpload()\n",
        "out_pl = widgets.Output()\n",
        "lbl_pred = widgets.Label()\n"
      ],
      "metadata": {
        "id": "EotEh3l03wgP"
      },
      "execution_count": null,
      "outputs": []
    },
    {
      "cell_type": "code",
      "source": [
        "# Definign a function to be executed when the classify button is clicked\n",
        "def on_click_classify(change):\n",
        "    lbl_pred.value = ''  \n",
        "    image_bytes = btn_upload.value[0][\"content\"] \n",
        "\n",
        "    \n",
        "    # Load the uploaded image and create a display of the image uploaded\n",
        "    img = Image.open(io.BytesIO(image_bytes)) \n",
        "    out_pl.clear_output()\n",
        "    with out_pl: \n",
        "        display(img.to_thumb(128,128))\n",
        "    \n",
        "    # Use the trained model to predict the image's class and probability\n",
        "    pred,pred_idx,probs = learn_inf.predict(img)\n",
        "    \n",
        "    # Update the output label with the predicted class and probability\n",
        "    lbl_pred.value = f'Prediction: {pred}; Probability: {probs[pred_idx]:.04f}'\n"
      ],
      "metadata": {
        "id": "5CVhXXqd7ivi"
      },
      "execution_count": null,
      "outputs": []
    },
    {
      "cell_type": "code",
      "source": [
        "# Attach the on_click_classify function to the classify button\n",
        "btn_upload.observe(on_click_classify, names=['data']) #"
      ],
      "metadata": {
        "id": "5sARchQ86Wnv"
      },
      "execution_count": null,
      "outputs": []
    },
    {
      "cell_type": "code",
      "source": [
        "out_pl = widgets.Output()"
      ],
      "metadata": {
        "id": "-Lun3m550Fh0"
      },
      "execution_count": null,
      "outputs": []
    },
    {
      "cell_type": "code",
      "source": [
        "#Printing VBox. That's what will appear fot the user of the webpage. \n",
        "display(VBox([widgets.Label('Select your Flag!'), \n",
        "      btn_upload, out_pl, lbl_pred]))"
      ],
      "metadata": {
        "colab": {
          "base_uri": "https://localhost:8080/",
          "height": 217,
          "referenced_widgets": [
            "939ac5cc3bd24468a39eac4f621c66bd",
            "2fa6f2f0b26b48c093be246b8c12cd47",
            "cb445679932f493181dd0aaacf27f322",
            "7f035e4374ea495aaa1dc36ce7c3e9d4",
            "fe67c8eafd984868a442e89a3aecb75d",
            "e9092b89e2594c308d93bbc251c65ea9",
            "39c55fbd5a3943518408a49c3cdcdc97",
            "185a301493cc4112a84d12ee276b464f",
            "447071bc62574c5b85a6bded9e7e0138",
            "257d2e709da34f788194c29d75ab65ba",
            "bd790af3a5bc476997fa442ce92ab69d",
            "6731a53fc7a744f4b355dd7a73bb2b64",
            "26e20d17bdec4311b9d81ee99340ad3d",
            "8a7f1c78ec2846a3ab7fa5ffee1410e6",
            "cdc743f9e51a4d4abae9dfcf584a9ac8",
            "d69b10753468445c8e255530cc56c388"
          ]
        },
        "id": "dqQ6bkKr7npt",
        "outputId": "feb117bd-f45c-4b3b-b8d2-98bafbf55007"
      },
      "execution_count": null,
      "outputs": [
        {
          "output_type": "display_data",
          "data": {
            "text/plain": [
              "VBox(children=(Label(value='Select your Flag!'), FileUpload(value={}, description='Upload'), Button(descriptio…"
            ],
            "application/vnd.jupyter.widget-view+json": {
              "version_major": 2,
              "version_minor": 0,
              "model_id": "939ac5cc3bd24468a39eac4f621c66bd"
            }
          },
          "metadata": {}
        },
        {
          "output_type": "display_data",
          "data": {
            "text/plain": [
              "<IPython.core.display.HTML object>"
            ],
            "text/html": [
              "\n",
              "<style>\n",
              "    /* Turns off some styling */\n",
              "    progress {\n",
              "        /* gets rid of default border in Firefox and Opera. */\n",
              "        border: none;\n",
              "        /* Needs to be in here for Safari polyfill so background images work as expected. */\n",
              "        background-size: auto;\n",
              "    }\n",
              "    progress:not([value]), progress:not([value])::-webkit-progress-bar {\n",
              "        background: repeating-linear-gradient(45deg, #7e7e7e, #7e7e7e 10px, #5c5c5c 10px, #5c5c5c 20px);\n",
              "    }\n",
              "    .progress-bar-interrupted, .progress-bar-interrupted::-webkit-progress-bar {\n",
              "        background: #F44336;\n",
              "    }\n",
              "</style>\n"
            ]
          },
          "metadata": {}
        },
        {
          "output_type": "display_data",
          "data": {
            "text/plain": [
              "<IPython.core.display.HTML object>"
            ],
            "text/html": []
          },
          "metadata": {}
        },
        {
          "output_type": "display_data",
          "data": {
            "text/plain": [
              "<IPython.core.display.HTML object>"
            ],
            "text/html": [
              "\n",
              "<style>\n",
              "    /* Turns off some styling */\n",
              "    progress {\n",
              "        /* gets rid of default border in Firefox and Opera. */\n",
              "        border: none;\n",
              "        /* Needs to be in here for Safari polyfill so background images work as expected. */\n",
              "        background-size: auto;\n",
              "    }\n",
              "    progress:not([value]), progress:not([value])::-webkit-progress-bar {\n",
              "        background: repeating-linear-gradient(45deg, #7e7e7e, #7e7e7e 10px, #5c5c5c 10px, #5c5c5c 20px);\n",
              "    }\n",
              "    .progress-bar-interrupted, .progress-bar-interrupted::-webkit-progress-bar {\n",
              "        background: #F44336;\n",
              "    }\n",
              "</style>\n"
            ]
          },
          "metadata": {}
        },
        {
          "output_type": "display_data",
          "data": {
            "text/plain": [
              "<IPython.core.display.HTML object>"
            ],
            "text/html": []
          },
          "metadata": {}
        }
      ]
    },
    {
      "cell_type": "code",
      "source": [
        "#Creating button \"run\" \n",
        "btn_run = widgets.Button(description='Classify')\n",
        "btn_run\n"
      ],
      "metadata": {
        "id": "1lF6FOG20aP0"
      },
      "execution_count": null,
      "outputs": []
    },
    {
      "cell_type": "code",
      "source": [
        "#When clicked, call function\n",
        "btn_run.on_click(on_click_classify)"
      ],
      "metadata": {
        "id": "mSoWdz6q6gnn"
      },
      "execution_count": null,
      "outputs": []
    },
    {
      "cell_type": "code",
      "source": [
        "#After creating this Notebook, for deploying it to a webpage. I created a public repository in GitHub: https://github.com/HugoZig/English-Model\n",
        "#And created a created a requirement.txt that contains the libraries and extensions nedded for the notebook to run. \n",
        "#I also had to add the export.pkl file, otherwise the Binder wouldn build the webpage. Then, I just had to fill the\n",
        "#necessary info at the Binder webpage. The only detail, is that, for the voila to run, you need to put /voila/render/ at the \n",
        "# \"URL to open (Optional)\" Section. The webpage has the following link: https://mybinder.org/v2/gh/HugoZig/English-Model/HEAD?urlpath=%2Fvoila%2Frender%2FEnglish_Project.ipynb"
      ],
      "metadata": {
        "id": "RMn7hc63e7gl"
      },
      "execution_count": null,
      "outputs": []
    }
  ]
}